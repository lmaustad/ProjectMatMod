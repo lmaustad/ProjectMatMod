{
 "cells": [
  {
   "cell_type": "markdown",
   "id": "2cfdc63e",
   "metadata": {},
   "source": [
    "#lsaaay"
   ]
  },
  {
   "cell_type": "markdown",
   "id": "04f99daf",
   "metadata": {},
   "source": [
    "hei"
   ]
  },
  {
   "cell_type": "markdown",
   "id": "8b930a58",
   "metadata": {},
   "source": []
  }
 ],
 "metadata": {
  "kernelspec": {
   "display_name": "base",
   "language": "python",
   "name": "python3"
  },
  "language_info": {
   "name": "python",
   "version": "3.12.11"
  }
 },
 "nbformat": 4,
 "nbformat_minor": 5
}
