{
 "cells": [
  {
   "cell_type": "markdown",
   "id": "a359c676",
   "metadata": {},
   "source": [
    "# Task 7\n",
    "Question 7: Set up a numerical scheme to solve (6) and use it to solve the\n",
    "equation with injection initial data (again do not hesitate to consider special\n",
    "cases)."
   ]
  },
  {
   "cell_type": "code",
   "execution_count": null,
   "id": "f073c63c",
   "metadata": {},
   "outputs": [],
   "source": [
    "\n",
    "\n"
   ]
  },
  {
   "cell_type": "markdown",
   "id": "04f99daf",
   "metadata": {},
   "source": [
    "hei"
   ]
  },
  {
   "cell_type": "markdown",
   "id": "8b930a58",
   "metadata": {},
   "source": []
  }
 ],
 "metadata": {
  "kernelspec": {
   "display_name": "base",
   "language": "python",
   "name": "python3"
  },
  "language_info": {
   "name": "python",
   "version": "3.12.11"
  }
 },
 "nbformat": 4,
 "nbformat_minor": 5
}
