{
 "cells": [
  {
   "cell_type": "markdown",
   "id": "a359c676",
   "metadata": {},
   "source": [
    "# Task 7\n",
    "Question 7: Set up a numerical scheme to solve (6) and use it to solve the\n",
    "equation with injection initial data (again do not hesitate to consider special\n",
    "cases)."
   ]
  },
  {
   "cell_type": "code",
   "execution_count": null,
   "id": "f073c63c",
   "metadata": {},
   "outputs": [],
   "source": [
    "\n",
    "\n"
   ]
  },
  {
   "cell_type": "markdown",
   "id": "04f99daf",
   "metadata": {},
   "source": [
    "hei"
   ]
  },
  {
   "cell_type": "markdown",
   "id": "8b930a58",
   "metadata": {},
   "source": [
    "hei"
   ]
  }
 ],
 "metadata": {
  "kernelspec": {
   "display_name": "base",
   "language": "python",
   "name": "python3"
  },
  "language_info": {
   "codemirror_mode": {
    "name": "ipython",
    "version": 3
   },
   "file_extension": ".py",
   "mimetype": "text/x-python",
   "name": "python",
   "nbconvert_exporter": "python",
   "pygments_lexer": "ipython3",
   "version": "3.12.11"
  }
 },
 "nbformat": 4,
 "nbformat_minor": 5
}
