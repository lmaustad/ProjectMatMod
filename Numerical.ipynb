{
 "cells": [
  {
   "cell_type": "code",
   "execution_count": 7,
   "id": "5409062a",
   "metadata": {},
   "outputs": [],
   "source": [
    "import numpy as np\n",
    "import matplotlib.pyplot as plt"
   ]
  },
  {
   "cell_type": "markdown",
   "id": "a359c676",
   "metadata": {},
   "source": [
    "# Task 7\n",
    "Question 7: Set up a numerical scheme to solve (6) and use it to solve the\n",
    "equation with injection initial data (again do not hesitate to consider special\n",
    "cases).\n",
    "\n",
    "$\n",
    "(\\phi_s)_t + (f(s)u)_x - (g(s)s_x)_x = 0\n",
    "$\n"
   ]
  },
  {
   "cell_type": "code",
   "execution_count": 3,
   "id": "f073c63c",
   "metadata": {},
   "outputs": [],
   "source": [
    "# defining constants\n",
    "\n",
    "phi = 0.2\n",
    "k = 1.0\n",
    "mu_g = 1.0\n",
    "mu_w = 1.0\n",
    "P0 = 1.0\n",
    "u = 1.0\n",
    "\n",
    "phi_derivative = P0\n",
    "\n"
   ]
  },
  {
   "cell_type": "code",
   "execution_count": null,
   "id": "279a7a2e",
   "metadata": {},
   "outputs": [],
   "source": [
    "# defining mobility functions\n",
    "\n",
    "def lambda_g(s):\n",
    "    return s / mu_g\n",
    "\n",
    "def lambda_w(s):\n",
    "    return (1 - s) / mu_w\n",
    "\n",
    "# defining f and g\n",
    "def f(s):\n",
    "    return lambda_g(s) / (lambda_w(s) + lambda_g(s))\n",
    "\n",
    "def g(s):\n",
    "    frac = lambda_w(s)*lambda_g(s) / (lambda_w(s) + lambda_g(s))\n",
    "    return frac * k * phi_derivative\n"
   ]
  },
  {
   "cell_type": "code",
   "execution_count": null,
   "id": "96d9df53",
   "metadata": {},
   "outputs": [],
   "source": [
    "# define the grid and time step\n",
    "\n",
    "L = 1.0\n",
    "N = 100\n",
    "dx = L / N\n",
    "x = np.linspace(0, L, N)\n",
    "dt = 0.01\n",
    "t = np.arange(0, 1, dt)\n",
    "\n",
    "# initial condition: injection at x=0\n",
    "\n",
    "s = np.zeros(N)\n",
    "s_left = 1.0  # injection saturation\n",
    "s[0] = 0\n",
    "\n",
    "F = np.zeros(N)\n",
    "\n",
    "# first for f(s) term using upwind scheme\n",
    "\n",
    "F[0] = f(s_left) \n",
    "\n",
    "if u > 0:\n",
    "    F[1:N] = f(s[:-1]) * u\n",
    "else:\n",
    "    F[1:N] = f(s[1:]) * u\n",
    "\n",
    "\n",
    "# time-stepping loop\n"
   ]
  },
  {
   "cell_type": "code",
   "execution_count": null,
   "id": "130aeb7f",
   "metadata": {},
   "outputs": [],
   "source": []
  }
 ],
 "metadata": {
  "kernelspec": {
   "display_name": "base",
   "language": "python",
   "name": "python3"
  },
  "language_info": {
   "codemirror_mode": {
    "name": "ipython",
    "version": 3
   },
   "file_extension": ".py",
   "mimetype": "text/x-python",
   "name": "python",
   "nbconvert_exporter": "python",
   "pygments_lexer": "ipython3",
   "version": "3.12.11"
  }
 },
 "nbformat": 4,
 "nbformat_minor": 5
}
